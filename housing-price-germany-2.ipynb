{
 "cells": [
  {
   "cell_type": "code",
   "execution_count": 1,
   "id": "4ba65080",
   "metadata": {
    "_cell_guid": "b1076dfc-b9ad-4769-8c92-a6c4dae69d19",
    "_uuid": "8f2839f25d086af736a60e9eeb907d3b93b6e0e5",
    "execution": {
     "iopub.execute_input": "2023-01-06T22:36:38.615360Z",
     "iopub.status.busy": "2023-01-06T22:36:38.614719Z",
     "iopub.status.idle": "2023-01-06T22:36:40.014517Z",
     "shell.execute_reply": "2023-01-06T22:36:40.013208Z"
    },
    "papermill": {
     "duration": 1.414275,
     "end_time": "2023-01-06T22:36:40.017414",
     "exception": false,
     "start_time": "2023-01-06T22:36:38.603139",
     "status": "completed"
    },
    "tags": []
   },
   "outputs": [
    {
     "name": "stdout",
     "output_type": "stream",
     "text": [
      "/kaggle/input/housing-price-germany-2019/housing_price_ge19.csv\n",
      "/kaggle/input/housing-price-germany-2019/housing_price_ge19.csv\n"
     ]
    }
   ],
   "source": [
    "# This Python 3 environment comes with many helpful analytics libraries installed\n",
    "# It is defined by the kaggle/python Docker image: https://github.com/kaggle/docker-python\n",
    "# For example, here's several helpful packages to load\n",
    "\n",
    "import numpy as np # linear algebra\n",
    "import pandas as pd # data processing, CSV file I/O (e.g. pd.read_csv)\n",
    "\n",
    "# Input data files are available in the read-only \"../input/\" directory\n",
    "# For example, running this (by clicking run or pressing Shift+Enter) will list all files under the input directory\n",
    "\n",
    "import numpy as np\n",
    "import pandas as pd\n",
    "import matplotlib.pyplot as plt\n",
    "import seaborn as sns\n",
    "%matplotlib inline\n",
    "\n",
    "from sklearn.model_selection import train_test_split\n",
    "\n",
    "import os\n",
    "for dirname, _, filenames in os.walk('/kaggle/input'):\n",
    "    for filename in filenames:\n",
    "        print(os.path.join(dirname, filename))\n",
    "\n",
    "\n",
    "\n",
    "import os\n",
    "for dirname, _, filenames in os.walk('/kaggle/input'):\n",
    "    for filename in filenames:\n",
    "        print(os.path.join(dirname, filename))\n",
    "\n",
    "# You can write up to 20GB to the current directory (/kaggle/working/) that gets preserved as output when you create a version using \"Save & Run All\" \n",
    "# You can also write temporary files to /kaggle/temp/, but they won't be saved outside of the current session"
   ]
  },
  {
   "cell_type": "markdown",
   "id": "5382e75d",
   "metadata": {
    "papermill": {
     "duration": 0.007574,
     "end_time": "2023-01-06T22:36:40.033253",
     "exception": false,
     "start_time": "2023-01-06T22:36:40.025679",
     "status": "completed"
    },
    "tags": []
   },
   "source": [
    "Data import"
   ]
  },
  {
   "cell_type": "code",
   "execution_count": 2,
   "id": "cd3bb3f5",
   "metadata": {
    "execution": {
     "iopub.execute_input": "2023-01-06T22:36:40.051566Z",
     "iopub.status.busy": "2023-01-06T22:36:40.050559Z",
     "iopub.status.idle": "2023-01-06T22:36:40.079348Z",
     "shell.execute_reply": "2023-01-06T22:36:40.077627Z"
    },
    "papermill": {
     "duration": 0.041869,
     "end_time": "2023-01-06T22:36:40.083089",
     "exception": false,
     "start_time": "2023-01-06T22:36:40.041220",
     "status": "completed"
    },
    "tags": []
   },
   "outputs": [
    {
     "name": "stdout",
     "output_type": "stream",
     "text": [
      "Shape of Data is : 1728 rows and 17 columns\n"
     ]
    }
   ],
   "source": [
    "df = pd.read_csv(\"/kaggle/input/housing-price-germany-2019/housing_price_ge19.csv\")\n",
    "print(f'Shape of Data is : {df.shape[0]} rows and {df.shape[1]} columns')"
   ]
  },
  {
   "cell_type": "markdown",
   "id": "b34949a5",
   "metadata": {
    "papermill": {
     "duration": 0.007897,
     "end_time": "2023-01-06T22:36:40.099483",
     "exception": false,
     "start_time": "2023-01-06T22:36:40.091586",
     "status": "completed"
    },
    "tags": []
   },
   "source": [
    "Definition"
   ]
  },
  {
   "cell_type": "code",
   "execution_count": 3,
   "id": "55898247",
   "metadata": {
    "execution": {
     "iopub.execute_input": "2023-01-06T22:36:40.118114Z",
     "iopub.status.busy": "2023-01-06T22:36:40.117021Z",
     "iopub.status.idle": "2023-01-06T22:36:40.126593Z",
     "shell.execute_reply": "2023-01-06T22:36:40.125421Z"
    },
    "papermill": {
     "duration": 0.021546,
     "end_time": "2023-01-06T22:36:40.129199",
     "exception": false,
     "start_time": "2023-01-06T22:36:40.107653",
     "status": "completed"
    },
    "tags": []
   },
   "outputs": [],
   "source": [
    "def summary_report(data):\n",
    "  r, c = data.shape\n",
    "  t_sparce = 0\n",
    "  t_nunique = 0\n",
    "  for n in data.columns:\n",
    "    col = data[n]\n",
    "    sparce = round(round(col.isna().sum() / r, 2) * 100, 2)\n",
    "    nunique = col.nunique()\n",
    "\n",
    "    t_sparce = t_sparce + sparce\n",
    "    t_nunique = t_nunique + nunique\n",
    "\n",
    "    print(str(n) + \" is \" + str(sparce) + \"% empty. (\" + str(data[n].isna().sum()) + \" null values)\")\n",
    "    print(f\"The column has \" + str(nunique) + \" unique elements.\")\n",
    "    print(\"\\n\")\n",
    "\n",
    "  data.info()\n",
    "  print(f\"The shape of the dataset is \" + str(r) + \" rows and \" + str(c) + \" columns.\")\n",
    "  print(f\"The dataset is \" + str(round(t_sparce / c, 2)) + \"% sparse and contains \" + str(t_nunique) + \" unique elements.\" )"
   ]
  },
  {
   "cell_type": "markdown",
   "id": "4b246e09",
   "metadata": {
    "papermill": {
     "duration": 0.007738,
     "end_time": "2023-01-06T22:36:40.146544",
     "exception": false,
     "start_time": "2023-01-06T22:36:40.138806",
     "status": "completed"
    },
    "tags": []
   },
   "source": [
    "Data visualization"
   ]
  },
  {
   "cell_type": "code",
   "execution_count": 4,
   "id": "efe1226c",
   "metadata": {
    "execution": {
     "iopub.execute_input": "2023-01-06T22:36:40.165147Z",
     "iopub.status.busy": "2023-01-06T22:36:40.163753Z",
     "iopub.status.idle": "2023-01-06T22:36:40.245466Z",
     "shell.execute_reply": "2023-01-06T22:36:40.244036Z"
    },
    "papermill": {
     "duration": 0.093863,
     "end_time": "2023-01-06T22:36:40.248421",
     "exception": false,
     "start_time": "2023-01-06T22:36:40.154558",
     "status": "completed"
    },
    "tags": []
   },
   "outputs": [
    {
     "data": {
      "text/html": [
       "<div>\n",
       "<style scoped>\n",
       "    .dataframe tbody tr th:only-of-type {\n",
       "        vertical-align: middle;\n",
       "    }\n",
       "\n",
       "    .dataframe tbody tr th {\n",
       "        vertical-align: top;\n",
       "    }\n",
       "\n",
       "    .dataframe thead th {\n",
       "        text-align: right;\n",
       "    }\n",
       "</style>\n",
       "<table border=\"1\" class=\"dataframe\">\n",
       "  <thead>\n",
       "    <tr style=\"text-align: right;\">\n",
       "      <th></th>\n",
       "      <th>Number</th>\n",
       "      <th>Price</th>\n",
       "      <th>Lot_Size</th>\n",
       "      <th>Waterfront</th>\n",
       "      <th>Age</th>\n",
       "      <th>Land_Value</th>\n",
       "      <th>New_Construct</th>\n",
       "      <th>Central_Air</th>\n",
       "      <th>Living_Area</th>\n",
       "      <th>Pct_College</th>\n",
       "      <th>Bedrooms</th>\n",
       "      <th>Fireplaces</th>\n",
       "      <th>Bathrooms</th>\n",
       "      <th>Rooms</th>\n",
       "    </tr>\n",
       "  </thead>\n",
       "  <tbody>\n",
       "    <tr>\n",
       "      <th>count</th>\n",
       "      <td>1728.000000</td>\n",
       "      <td>1728.000000</td>\n",
       "      <td>1728.000000</td>\n",
       "      <td>1728.000000</td>\n",
       "      <td>1648.000000</td>\n",
       "      <td>1647.000000</td>\n",
       "      <td>1728.000000</td>\n",
       "      <td>1728.000000</td>\n",
       "      <td>1728.000000</td>\n",
       "      <td>1728.000000</td>\n",
       "      <td>1728.000000</td>\n",
       "      <td>1330.000000</td>\n",
       "      <td>1728.000000</td>\n",
       "      <td>1728.000000</td>\n",
       "    </tr>\n",
       "    <tr>\n",
       "      <th>mean</th>\n",
       "      <td>864.500000</td>\n",
       "      <td>211966.705440</td>\n",
       "      <td>0.500214</td>\n",
       "      <td>0.008681</td>\n",
       "      <td>27.956311</td>\n",
       "      <td>34324.905889</td>\n",
       "      <td>0.046875</td>\n",
       "      <td>0.367477</td>\n",
       "      <td>1754.975694</td>\n",
       "      <td>55.567708</td>\n",
       "      <td>3.154514</td>\n",
       "      <td>0.603008</td>\n",
       "      <td>1.900174</td>\n",
       "      <td>7.041667</td>\n",
       "    </tr>\n",
       "    <tr>\n",
       "      <th>std</th>\n",
       "      <td>498.974949</td>\n",
       "      <td>98441.391015</td>\n",
       "      <td>0.698680</td>\n",
       "      <td>0.092791</td>\n",
       "      <td>29.208179</td>\n",
       "      <td>35075.035326</td>\n",
       "      <td>0.211432</td>\n",
       "      <td>0.482257</td>\n",
       "      <td>619.935553</td>\n",
       "      <td>10.333581</td>\n",
       "      <td>0.817351</td>\n",
       "      <td>0.551616</td>\n",
       "      <td>0.658352</td>\n",
       "      <td>2.316453</td>\n",
       "    </tr>\n",
       "    <tr>\n",
       "      <th>min</th>\n",
       "      <td>1.000000</td>\n",
       "      <td>5000.000000</td>\n",
       "      <td>0.000000</td>\n",
       "      <td>0.000000</td>\n",
       "      <td>0.000000</td>\n",
       "      <td>200.000000</td>\n",
       "      <td>0.000000</td>\n",
       "      <td>0.000000</td>\n",
       "      <td>616.000000</td>\n",
       "      <td>20.000000</td>\n",
       "      <td>1.000000</td>\n",
       "      <td>0.000000</td>\n",
       "      <td>0.000000</td>\n",
       "      <td>2.000000</td>\n",
       "    </tr>\n",
       "    <tr>\n",
       "      <th>25%</th>\n",
       "      <td>432.750000</td>\n",
       "      <td>145000.000000</td>\n",
       "      <td>0.170000</td>\n",
       "      <td>0.000000</td>\n",
       "      <td>13.000000</td>\n",
       "      <td>15100.000000</td>\n",
       "      <td>0.000000</td>\n",
       "      <td>0.000000</td>\n",
       "      <td>1300.000000</td>\n",
       "      <td>52.000000</td>\n",
       "      <td>3.000000</td>\n",
       "      <td>0.000000</td>\n",
       "      <td>1.500000</td>\n",
       "      <td>5.000000</td>\n",
       "    </tr>\n",
       "    <tr>\n",
       "      <th>50%</th>\n",
       "      <td>864.500000</td>\n",
       "      <td>189900.000000</td>\n",
       "      <td>0.370000</td>\n",
       "      <td>0.000000</td>\n",
       "      <td>19.000000</td>\n",
       "      <td>25000.000000</td>\n",
       "      <td>0.000000</td>\n",
       "      <td>0.000000</td>\n",
       "      <td>1634.500000</td>\n",
       "      <td>57.000000</td>\n",
       "      <td>3.000000</td>\n",
       "      <td>1.000000</td>\n",
       "      <td>2.000000</td>\n",
       "      <td>7.000000</td>\n",
       "    </tr>\n",
       "    <tr>\n",
       "      <th>75%</th>\n",
       "      <td>1296.250000</td>\n",
       "      <td>259000.000000</td>\n",
       "      <td>0.540000</td>\n",
       "      <td>0.000000</td>\n",
       "      <td>34.000000</td>\n",
       "      <td>39650.000000</td>\n",
       "      <td>0.000000</td>\n",
       "      <td>1.000000</td>\n",
       "      <td>2137.750000</td>\n",
       "      <td>64.000000</td>\n",
       "      <td>4.000000</td>\n",
       "      <td>1.000000</td>\n",
       "      <td>2.500000</td>\n",
       "      <td>8.250000</td>\n",
       "    </tr>\n",
       "    <tr>\n",
       "      <th>max</th>\n",
       "      <td>1728.000000</td>\n",
       "      <td>775000.000000</td>\n",
       "      <td>12.200000</td>\n",
       "      <td>1.000000</td>\n",
       "      <td>225.000000</td>\n",
       "      <td>412600.000000</td>\n",
       "      <td>1.000000</td>\n",
       "      <td>1.000000</td>\n",
       "      <td>5228.000000</td>\n",
       "      <td>82.000000</td>\n",
       "      <td>7.000000</td>\n",
       "      <td>4.000000</td>\n",
       "      <td>4.500000</td>\n",
       "      <td>12.000000</td>\n",
       "    </tr>\n",
       "  </tbody>\n",
       "</table>\n",
       "</div>"
      ],
      "text/plain": [
       "            Number          Price     Lot_Size   Waterfront          Age  \\\n",
       "count  1728.000000    1728.000000  1728.000000  1728.000000  1648.000000   \n",
       "mean    864.500000  211966.705440     0.500214     0.008681    27.956311   \n",
       "std     498.974949   98441.391015     0.698680     0.092791    29.208179   \n",
       "min       1.000000    5000.000000     0.000000     0.000000     0.000000   \n",
       "25%     432.750000  145000.000000     0.170000     0.000000    13.000000   \n",
       "50%     864.500000  189900.000000     0.370000     0.000000    19.000000   \n",
       "75%    1296.250000  259000.000000     0.540000     0.000000    34.000000   \n",
       "max    1728.000000  775000.000000    12.200000     1.000000   225.000000   \n",
       "\n",
       "          Land_Value  New_Construct  Central_Air  Living_Area  Pct_College  \\\n",
       "count    1647.000000    1728.000000  1728.000000  1728.000000  1728.000000   \n",
       "mean    34324.905889       0.046875     0.367477  1754.975694    55.567708   \n",
       "std     35075.035326       0.211432     0.482257   619.935553    10.333581   \n",
       "min       200.000000       0.000000     0.000000   616.000000    20.000000   \n",
       "25%     15100.000000       0.000000     0.000000  1300.000000    52.000000   \n",
       "50%     25000.000000       0.000000     0.000000  1634.500000    57.000000   \n",
       "75%     39650.000000       0.000000     1.000000  2137.750000    64.000000   \n",
       "max    412600.000000       1.000000     1.000000  5228.000000    82.000000   \n",
       "\n",
       "          Bedrooms   Fireplaces    Bathrooms        Rooms  \n",
       "count  1728.000000  1330.000000  1728.000000  1728.000000  \n",
       "mean      3.154514     0.603008     1.900174     7.041667  \n",
       "std       0.817351     0.551616     0.658352     2.316453  \n",
       "min       1.000000     0.000000     0.000000     2.000000  \n",
       "25%       3.000000     0.000000     1.500000     5.000000  \n",
       "50%       3.000000     1.000000     2.000000     7.000000  \n",
       "75%       4.000000     1.000000     2.500000     8.250000  \n",
       "max       7.000000     4.000000     4.500000    12.000000  "
      ]
     },
     "execution_count": 4,
     "metadata": {},
     "output_type": "execute_result"
    }
   ],
   "source": [
    "df.describe()"
   ]
  },
  {
   "cell_type": "code",
   "execution_count": 5,
   "id": "575f4265",
   "metadata": {
    "execution": {
     "iopub.execute_input": "2023-01-06T22:36:40.267627Z",
     "iopub.status.busy": "2023-01-06T22:36:40.266841Z",
     "iopub.status.idle": "2023-01-06T22:36:40.276479Z",
     "shell.execute_reply": "2023-01-06T22:36:40.275504Z"
    },
    "papermill": {
     "duration": 0.022234,
     "end_time": "2023-01-06T22:36:40.279151",
     "exception": false,
     "start_time": "2023-01-06T22:36:40.256917",
     "status": "completed"
    },
    "tags": []
   },
   "outputs": [],
   "source": [
    "from sklearn import preprocessing\n",
    "label_encoder = preprocessing.LabelEncoder()\n",
    "\n",
    "# Encode the categorical and ordinal variables\n",
    "df['Fuel_Type'] = label_encoder.fit_transform(df['Fuel_Type'])\n",
    "df['Heat_Type'] = label_encoder.fit_transform(df['Heat_Type'])\n",
    "df['Sewer_Type'] = label_encoder.fit_transform(df['Sewer_Type'])"
   ]
  },
  {
   "cell_type": "code",
   "execution_count": 6,
   "id": "556a32e5",
   "metadata": {
    "execution": {
     "iopub.execute_input": "2023-01-06T22:36:40.298399Z",
     "iopub.status.busy": "2023-01-06T22:36:40.297893Z",
     "iopub.status.idle": "2023-01-06T22:36:44.026800Z",
     "shell.execute_reply": "2023-01-06T22:36:44.024891Z"
    },
    "papermill": {
     "duration": 3.742582,
     "end_time": "2023-01-06T22:36:44.030102",
     "exception": true,
     "start_time": "2023-01-06T22:36:40.287520",
     "status": "failed"
    },
    "tags": []
   },
   "outputs": [
    {
     "name": "stderr",
     "output_type": "stream",
     "text": [
      "/opt/conda/lib/python3.7/site-packages/seaborn/distributions.py:2619: FutureWarning: `distplot` is a deprecated function and will be removed in a future version. Please adapt your code to use either `displot` (a figure-level function with similar flexibility) or `histplot` (an axes-level function for histograms).\n",
      "  warnings.warn(msg, FutureWarning)\n",
      "/opt/conda/lib/python3.7/site-packages/seaborn/distributions.py:2619: FutureWarning: `distplot` is a deprecated function and will be removed in a future version. Please adapt your code to use either `displot` (a figure-level function with similar flexibility) or `histplot` (an axes-level function for histograms).\n",
      "  warnings.warn(msg, FutureWarning)\n",
      "/opt/conda/lib/python3.7/site-packages/seaborn/distributions.py:2619: FutureWarning: `distplot` is a deprecated function and will be removed in a future version. Please adapt your code to use either `displot` (a figure-level function with similar flexibility) or `histplot` (an axes-level function for histograms).\n",
      "  warnings.warn(msg, FutureWarning)\n",
      "/opt/conda/lib/python3.7/site-packages/seaborn/distributions.py:2619: FutureWarning: `distplot` is a deprecated function and will be removed in a future version. Please adapt your code to use either `displot` (a figure-level function with similar flexibility) or `histplot` (an axes-level function for histograms).\n",
      "  warnings.warn(msg, FutureWarning)\n",
      "/opt/conda/lib/python3.7/site-packages/seaborn/distributions.py:2619: FutureWarning: `distplot` is a deprecated function and will be removed in a future version. Please adapt your code to use either `displot` (a figure-level function with similar flexibility) or `histplot` (an axes-level function for histograms).\n",
      "  warnings.warn(msg, FutureWarning)\n",
      "/opt/conda/lib/python3.7/site-packages/seaborn/distributions.py:2619: FutureWarning: `distplot` is a deprecated function and will be removed in a future version. Please adapt your code to use either `displot` (a figure-level function with similar flexibility) or `histplot` (an axes-level function for histograms).\n",
      "  warnings.warn(msg, FutureWarning)\n",
      "/opt/conda/lib/python3.7/site-packages/seaborn/distributions.py:2619: FutureWarning: `distplot` is a deprecated function and will be removed in a future version. Please adapt your code to use either `displot` (a figure-level function with similar flexibility) or `histplot` (an axes-level function for histograms).\n",
      "  warnings.warn(msg, FutureWarning)\n",
      "/opt/conda/lib/python3.7/site-packages/seaborn/distributions.py:2619: FutureWarning: `distplot` is a deprecated function and will be removed in a future version. Please adapt your code to use either `displot` (a figure-level function with similar flexibility) or `histplot` (an axes-level function for histograms).\n",
      "  warnings.warn(msg, FutureWarning)\n",
      "/opt/conda/lib/python3.7/site-packages/seaborn/distributions.py:2619: FutureWarning: `distplot` is a deprecated function and will be removed in a future version. Please adapt your code to use either `displot` (a figure-level function with similar flexibility) or `histplot` (an axes-level function for histograms).\n",
      "  warnings.warn(msg, FutureWarning)\n",
      "/opt/conda/lib/python3.7/site-packages/seaborn/distributions.py:2619: FutureWarning: `distplot` is a deprecated function and will be removed in a future version. Please adapt your code to use either `displot` (a figure-level function with similar flexibility) or `histplot` (an axes-level function for histograms).\n",
      "  warnings.warn(msg, FutureWarning)\n",
      "/opt/conda/lib/python3.7/site-packages/seaborn/distributions.py:2619: FutureWarning: `distplot` is a deprecated function and will be removed in a future version. Please adapt your code to use either `displot` (a figure-level function with similar flexibility) or `histplot` (an axes-level function for histograms).\n",
      "  warnings.warn(msg, FutureWarning)\n",
      "/opt/conda/lib/python3.7/site-packages/seaborn/distributions.py:2619: FutureWarning: `distplot` is a deprecated function and will be removed in a future version. Please adapt your code to use either `displot` (a figure-level function with similar flexibility) or `histplot` (an axes-level function for histograms).\n",
      "  warnings.warn(msg, FutureWarning)\n",
      "/opt/conda/lib/python3.7/site-packages/seaborn/distributions.py:2619: FutureWarning: `distplot` is a deprecated function and will be removed in a future version. Please adapt your code to use either `displot` (a figure-level function with similar flexibility) or `histplot` (an axes-level function for histograms).\n",
      "  warnings.warn(msg, FutureWarning)\n",
      "/opt/conda/lib/python3.7/site-packages/seaborn/distributions.py:2619: FutureWarning: `distplot` is a deprecated function and will be removed in a future version. Please adapt your code to use either `displot` (a figure-level function with similar flexibility) or `histplot` (an axes-level function for histograms).\n",
      "  warnings.warn(msg, FutureWarning)\n"
     ]
    },
    {
     "ename": "ValueError",
     "evalue": "num must be 1 <= num <= 14, not 15",
     "output_type": "error",
     "traceback": [
      "\u001b[0;31m---------------------------------------------------------------------------\u001b[0m",
      "\u001b[0;31mValueError\u001b[0m                                Traceback (most recent call last)",
      "\u001b[0;32m/tmp/ipykernel_19/3294422824.py\u001b[0m in \u001b[0;36m<module>\u001b[0;34m\u001b[0m\n\u001b[1;32m      3\u001b[0m \u001b[0mfig\u001b[0m \u001b[0;34m=\u001b[0m \u001b[0mplt\u001b[0m\u001b[0;34m.\u001b[0m\u001b[0mfigure\u001b[0m\u001b[0;34m(\u001b[0m\u001b[0mfigsize\u001b[0m\u001b[0;34m=\u001b[0m\u001b[0;34m(\u001b[0m\u001b[0;36m16\u001b[0m\u001b[0;34m,\u001b[0m\u001b[0;36m24\u001b[0m\u001b[0;34m)\u001b[0m\u001b[0;34m)\u001b[0m\u001b[0;34m\u001b[0m\u001b[0;34m\u001b[0m\u001b[0m\n\u001b[1;32m      4\u001b[0m \u001b[0;32mfor\u001b[0m \u001b[0mi\u001b[0m \u001b[0;32min\u001b[0m \u001b[0mdf\u001b[0m\u001b[0;34m.\u001b[0m\u001b[0mcolumns\u001b[0m\u001b[0;34m:\u001b[0m\u001b[0;34m\u001b[0m\u001b[0;34m\u001b[0m\u001b[0m\n\u001b[0;32m----> 5\u001b[0;31m     \u001b[0max\u001b[0m \u001b[0;34m=\u001b[0m \u001b[0mfig\u001b[0m\u001b[0;34m.\u001b[0m\u001b[0madd_subplot\u001b[0m\u001b[0;34m(\u001b[0m\u001b[0;36m7\u001b[0m\u001b[0;34m,\u001b[0m\u001b[0;36m2\u001b[0m\u001b[0;34m,\u001b[0m\u001b[0mpos\u001b[0m\u001b[0;34m)\u001b[0m\u001b[0;34m\u001b[0m\u001b[0;34m\u001b[0m\u001b[0m\n\u001b[0m\u001b[1;32m      6\u001b[0m     \u001b[0mpos\u001b[0m \u001b[0;34m=\u001b[0m \u001b[0mpos\u001b[0m \u001b[0;34m+\u001b[0m \u001b[0;36m1\u001b[0m\u001b[0;34m\u001b[0m\u001b[0;34m\u001b[0m\u001b[0m\n\u001b[1;32m      7\u001b[0m     \u001b[0msns\u001b[0m\u001b[0;34m.\u001b[0m\u001b[0mdistplot\u001b[0m\u001b[0;34m(\u001b[0m\u001b[0mdf\u001b[0m\u001b[0;34m[\u001b[0m\u001b[0mi\u001b[0m\u001b[0;34m]\u001b[0m\u001b[0;34m,\u001b[0m\u001b[0max\u001b[0m\u001b[0;34m=\u001b[0m\u001b[0max\u001b[0m\u001b[0;34m)\u001b[0m\u001b[0;34m\u001b[0m\u001b[0;34m\u001b[0m\u001b[0m\n",
      "\u001b[0;32m/opt/conda/lib/python3.7/site-packages/matplotlib/figure.py\u001b[0m in \u001b[0;36madd_subplot\u001b[0;34m(self, *args, **kwargs)\u001b[0m\n\u001b[1;32m    770\u001b[0m             projection_class, pkw = self._process_projection_requirements(\n\u001b[1;32m    771\u001b[0m                 *args, **kwargs)\n\u001b[0;32m--> 772\u001b[0;31m             \u001b[0max\u001b[0m \u001b[0;34m=\u001b[0m \u001b[0msubplot_class_factory\u001b[0m\u001b[0;34m(\u001b[0m\u001b[0mprojection_class\u001b[0m\u001b[0;34m)\u001b[0m\u001b[0;34m(\u001b[0m\u001b[0mself\u001b[0m\u001b[0;34m,\u001b[0m \u001b[0;34m*\u001b[0m\u001b[0margs\u001b[0m\u001b[0;34m,\u001b[0m \u001b[0;34m**\u001b[0m\u001b[0mpkw\u001b[0m\u001b[0;34m)\u001b[0m\u001b[0;34m\u001b[0m\u001b[0;34m\u001b[0m\u001b[0m\n\u001b[0m\u001b[1;32m    773\u001b[0m             \u001b[0mkey\u001b[0m \u001b[0;34m=\u001b[0m \u001b[0;34m(\u001b[0m\u001b[0mprojection_class\u001b[0m\u001b[0;34m,\u001b[0m \u001b[0mpkw\u001b[0m\u001b[0;34m)\u001b[0m\u001b[0;34m\u001b[0m\u001b[0;34m\u001b[0m\u001b[0m\n\u001b[1;32m    774\u001b[0m         \u001b[0;32mreturn\u001b[0m \u001b[0mself\u001b[0m\u001b[0;34m.\u001b[0m\u001b[0m_add_axes_internal\u001b[0m\u001b[0;34m(\u001b[0m\u001b[0max\u001b[0m\u001b[0;34m,\u001b[0m \u001b[0mkey\u001b[0m\u001b[0;34m)\u001b[0m\u001b[0;34m\u001b[0m\u001b[0;34m\u001b[0m\u001b[0m\n",
      "\u001b[0;32m/opt/conda/lib/python3.7/site-packages/matplotlib/axes/_subplots.py\u001b[0m in \u001b[0;36m__init__\u001b[0;34m(self, fig, *args, **kwargs)\u001b[0m\n\u001b[1;32m     34\u001b[0m         \u001b[0mself\u001b[0m\u001b[0;34m.\u001b[0m\u001b[0m_axes_class\u001b[0m\u001b[0;34m.\u001b[0m\u001b[0m__init__\u001b[0m\u001b[0;34m(\u001b[0m\u001b[0mself\u001b[0m\u001b[0;34m,\u001b[0m \u001b[0mfig\u001b[0m\u001b[0;34m,\u001b[0m \u001b[0;34m[\u001b[0m\u001b[0;36m0\u001b[0m\u001b[0;34m,\u001b[0m \u001b[0;36m0\u001b[0m\u001b[0;34m,\u001b[0m \u001b[0;36m1\u001b[0m\u001b[0;34m,\u001b[0m \u001b[0;36m1\u001b[0m\u001b[0;34m]\u001b[0m\u001b[0;34m,\u001b[0m \u001b[0;34m**\u001b[0m\u001b[0mkwargs\u001b[0m\u001b[0;34m)\u001b[0m\u001b[0;34m\u001b[0m\u001b[0;34m\u001b[0m\u001b[0m\n\u001b[1;32m     35\u001b[0m         \u001b[0;31m# This will also update the axes position.\u001b[0m\u001b[0;34m\u001b[0m\u001b[0;34m\u001b[0m\u001b[0;34m\u001b[0m\u001b[0m\n\u001b[0;32m---> 36\u001b[0;31m         \u001b[0mself\u001b[0m\u001b[0;34m.\u001b[0m\u001b[0mset_subplotspec\u001b[0m\u001b[0;34m(\u001b[0m\u001b[0mSubplotSpec\u001b[0m\u001b[0;34m.\u001b[0m\u001b[0m_from_subplot_args\u001b[0m\u001b[0;34m(\u001b[0m\u001b[0mfig\u001b[0m\u001b[0;34m,\u001b[0m \u001b[0margs\u001b[0m\u001b[0;34m)\u001b[0m\u001b[0;34m)\u001b[0m\u001b[0;34m\u001b[0m\u001b[0;34m\u001b[0m\u001b[0m\n\u001b[0m\u001b[1;32m     37\u001b[0m \u001b[0;34m\u001b[0m\u001b[0m\n\u001b[1;32m     38\u001b[0m     @_api.deprecated(\n",
      "\u001b[0;32m/opt/conda/lib/python3.7/site-packages/matplotlib/gridspec.py\u001b[0m in \u001b[0;36m_from_subplot_args\u001b[0;34m(figure, args)\u001b[0m\n\u001b[1;32m    607\u001b[0m             \u001b[0;32mif\u001b[0m \u001b[0;32mnot\u001b[0m \u001b[0misinstance\u001b[0m\u001b[0;34m(\u001b[0m\u001b[0mnum\u001b[0m\u001b[0;34m,\u001b[0m \u001b[0mIntegral\u001b[0m\u001b[0;34m)\u001b[0m \u001b[0;32mor\u001b[0m \u001b[0mnum\u001b[0m \u001b[0;34m<\u001b[0m \u001b[0;36m1\u001b[0m \u001b[0;32mor\u001b[0m \u001b[0mnum\u001b[0m \u001b[0;34m>\u001b[0m \u001b[0mrows\u001b[0m\u001b[0;34m*\u001b[0m\u001b[0mcols\u001b[0m\u001b[0;34m:\u001b[0m\u001b[0;34m\u001b[0m\u001b[0;34m\u001b[0m\u001b[0m\n\u001b[1;32m    608\u001b[0m                 raise ValueError(\n\u001b[0;32m--> 609\u001b[0;31m                     f\"num must be 1 <= num <= {rows*cols}, not {num!r}\")\n\u001b[0m\u001b[1;32m    610\u001b[0m             \u001b[0mi\u001b[0m \u001b[0;34m=\u001b[0m \u001b[0mj\u001b[0m \u001b[0;34m=\u001b[0m \u001b[0mnum\u001b[0m\u001b[0;34m\u001b[0m\u001b[0;34m\u001b[0m\u001b[0m\n\u001b[1;32m    611\u001b[0m         \u001b[0;32mreturn\u001b[0m \u001b[0mgs\u001b[0m\u001b[0;34m[\u001b[0m\u001b[0mi\u001b[0m\u001b[0;34m-\u001b[0m\u001b[0;36m1\u001b[0m\u001b[0;34m:\u001b[0m\u001b[0mj\u001b[0m\u001b[0;34m]\u001b[0m\u001b[0;34m\u001b[0m\u001b[0;34m\u001b[0m\u001b[0m\n",
      "\u001b[0;31mValueError\u001b[0m: num must be 1 <= num <= 14, not 15"
     ]
    },
    {
     "data": {
      "image/png": "[encoded data removed]",
      "text/plain": [
       "<Figure size 1152x1728 with 14 Axes>"
      ]
     },
     "metadata": {
      "needs_background": "light"
     },
     "output_type": "display_data"
    }
   ],
   "source": [
    "# Lets look at the distribution plot of the features\n",
    "pos = 1\n",
    "fig = plt.figure(figsize=(16,24))\n",
    "for i in df.columns:\n",
    "    ax = fig.add_subplot(7,2,pos)\n",
    "    pos = pos + 1\n",
    "    sns.distplot(df[i],ax=ax)"
   ]
  },
  {
   "cell_type": "code",
   "execution_count": null,
   "id": "0db641fe",
   "metadata": {
    "execution": {
     "iopub.execute_input": "2023-01-06T22:31:43.017940Z",
     "iopub.status.busy": "2023-01-06T22:31:43.017417Z",
     "iopub.status.idle": "2023-01-06T22:31:43.046989Z",
     "shell.execute_reply": "2023-01-06T22:31:43.045419Z",
     "shell.execute_reply.started": "2023-01-06T22:31:43.017872Z"
    },
    "papermill": {
     "duration": null,
     "end_time": null,
     "exception": null,
     "start_time": null,
     "status": "pending"
    },
    "tags": []
   },
   "outputs": [],
   "source": [
    "summary_report(df)"
   ]
  },
  {
   "cell_type": "code",
   "execution_count": null,
   "id": "7501ad3d",
   "metadata": {
    "execution": {
     "iopub.execute_input": "2023-01-06T22:31:45.715911Z",
     "iopub.status.busy": "2023-01-06T22:31:45.715481Z",
     "iopub.status.idle": "2023-01-06T22:31:48.480878Z",
     "shell.execute_reply": "2023-01-06T22:31:48.479081Z",
     "shell.execute_reply.started": "2023-01-06T22:31:45.715874Z"
    },
    "papermill": {
     "duration": null,
     "end_time": null,
     "exception": null,
     "start_time": null,
     "status": "pending"
    },
    "tags": []
   },
   "outputs": [],
   "source": [
    "# Lets look at the correlation matrix of our data.\n",
    "fig = plt.figure(figsize=(16,12))\n",
    "ax = fig.add_subplot(111)\n",
    "sns.heatmap(df.corr(),annot=True)"
   ]
  },
  {
   "cell_type": "markdown",
   "id": "f06282dc",
   "metadata": {
    "papermill": {
     "duration": null,
     "end_time": null,
     "exception": null,
     "start_time": null,
     "status": "pending"
    },
    "tags": []
   },
   "source": [
    "Observation:\n",
    "\n",
    "There is strong positive colinearity between Price, Living_Area and Bathrooms which makes sense. Bigger areas and more bathrooms cost higher. There is also a strong positive association between Living_Area, Rooms, Bathrooms, Bedrooms. More Space = more rooms = more bathrooms = more bedrooms.\n",
    "\n",
    "Action:\n",
    "\n",
    "I will cap some of the outliers and drop Number, Lot_Size, Waterfront, Age, Land_Value, New_Construct, Central_Air, Fuel_Type, Sewer_Type, Pct_College and Fireplaces because for living spaces we only need to focus on total of Living_Area, Bedrooms, Bathrooms and Rooms. More houses will be baked into how many total bedrooms there are so I am not losing any information."
   ]
  },
  {
   "cell_type": "code",
   "execution_count": null,
   "id": "3c1047bd",
   "metadata": {
    "execution": {
     "iopub.execute_input": "2023-01-06T22:31:53.061139Z",
     "iopub.status.busy": "2023-01-06T22:31:53.060618Z",
     "iopub.status.idle": "2023-01-06T22:31:53.069705Z",
     "shell.execute_reply": "2023-01-06T22:31:53.068129Z",
     "shell.execute_reply.started": "2023-01-06T22:31:53.061088Z"
    },
    "papermill": {
     "duration": null,
     "end_time": null,
     "exception": null,
     "start_time": null,
     "status": "pending"
    },
    "tags": []
   },
   "outputs": [],
   "source": [
    "\n",
    "droplist = [\"Number\",\"Lot_Size\",\"Waterfront\",\"Age\",\"Land_Value\",\"New_Construct\",\"Central_Air\",\"Fuel_Type\",\"Heat_Type\",\"Sewer_Type\",\"Pct_College\",\"Fireplaces\",\"Bedrooms\"]\n",
    "\n",
    "df.drop(columns=droplist,inplace=True)"
   ]
  },
  {
   "cell_type": "code",
   "execution_count": null,
   "id": "15bd5638",
   "metadata": {
    "execution": {
     "iopub.execute_input": "2023-01-06T22:31:55.817697Z",
     "iopub.status.busy": "2023-01-06T22:31:55.817221Z",
     "iopub.status.idle": "2023-01-06T22:31:55.838613Z",
     "shell.execute_reply": "2023-01-06T22:31:55.837331Z",
     "shell.execute_reply.started": "2023-01-06T22:31:55.817660Z"
    },
    "papermill": {
     "duration": null,
     "end_time": null,
     "exception": null,
     "start_time": null,
     "status": "pending"
    },
    "tags": []
   },
   "outputs": [],
   "source": [
    "for col in df.columns:\n",
    "\n",
    "  q_low = df[col].quantile(.1)\n",
    "  q_hi  = df[col].quantile(.9)\n",
    "\n",
    "  df = df[(df[col] < q_hi) & (df[col] > q_low)]"
   ]
  },
  {
   "cell_type": "markdown",
   "id": "a4a09540",
   "metadata": {
    "papermill": {
     "duration": null,
     "end_time": null,
     "exception": null,
     "start_time": null,
     "status": "pending"
    },
    "tags": []
   },
   "source": [
    "Now that we have gone through and dropped the bottom and top 10% we get a much more accurate variety of data."
   ]
  },
  {
   "cell_type": "code",
   "execution_count": null,
   "id": "626eb276",
   "metadata": {
    "execution": {
     "iopub.execute_input": "2023-01-06T22:31:58.099350Z",
     "iopub.status.busy": "2023-01-06T22:31:58.098866Z",
     "iopub.status.idle": "2023-01-06T22:31:58.991339Z",
     "shell.execute_reply": "2023-01-06T22:31:58.989549Z",
     "shell.execute_reply.started": "2023-01-06T22:31:58.099311Z"
    },
    "papermill": {
     "duration": null,
     "end_time": null,
     "exception": null,
     "start_time": null,
     "status": "pending"
    },
    "tags": []
   },
   "outputs": [],
   "source": [
    "# Lets look at the distribution plot of the features\n",
    "pos = 1\n",
    "fig = plt.figure(figsize=(16,24))\n",
    "for i in df.columns:\n",
    "    ax = fig.add_subplot(7,2,pos)\n",
    "    pos = pos + 1\n",
    "    sns.distplot(df[i],ax=ax)"
   ]
  },
  {
   "cell_type": "markdown",
   "id": "67077a21",
   "metadata": {
    "papermill": {
     "duration": null,
     "end_time": null,
     "exception": null,
     "start_time": null,
     "status": "pending"
    },
    "tags": []
   },
   "source": [
    "Model Building"
   ]
  },
  {
   "cell_type": "code",
   "execution_count": null,
   "id": "ec689ccb",
   "metadata": {
    "execution": {
     "iopub.execute_input": "2023-01-06T22:32:04.349511Z",
     "iopub.status.busy": "2023-01-06T22:32:04.349029Z",
     "iopub.status.idle": "2023-01-06T22:32:04.357435Z",
     "shell.execute_reply": "2023-01-06T22:32:04.355619Z",
     "shell.execute_reply.started": "2023-01-06T22:32:04.349476Z"
    },
    "papermill": {
     "duration": null,
     "end_time": null,
     "exception": null,
     "start_time": null,
     "status": "pending"
    },
    "tags": []
   },
   "outputs": [],
   "source": [
    "# import libraries needed for this.\n",
    "import numpy as np\n",
    "from sklearn.linear_model import LinearRegression\n",
    "from sklearn.metrics import r2_score"
   ]
  },
  {
   "cell_type": "code",
   "execution_count": null,
   "id": "b3f9e641",
   "metadata": {
    "execution": {
     "iopub.execute_input": "2023-01-06T22:32:07.029524Z",
     "iopub.status.busy": "2023-01-06T22:32:07.029070Z",
     "iopub.status.idle": "2023-01-06T22:32:07.059284Z",
     "shell.execute_reply": "2023-01-06T22:32:07.058236Z",
     "shell.execute_reply.started": "2023-01-06T22:32:07.029488Z"
    },
    "papermill": {
     "duration": null,
     "end_time": null,
     "exception": null,
     "start_time": null,
     "status": "pending"
    },
    "tags": []
   },
   "outputs": [],
   "source": [
    "# lets get the VIF value to understand the multi collinearity\n",
    "vifdf = []\n",
    "for i in df.columns:\n",
    "    X = np.array(df.drop(i,axis=1))\n",
    "    y = np.array(df[i])\n",
    "    lr = LinearRegression()\n",
    "    lr.fit(X,y)\n",
    "    y_pred = lr.predict(X)\n",
    "    r2 = r2_score(y,y_pred)\n",
    "    vif = 1/(1-r2)\n",
    "    vifdf.append((i,vif))\n",
    "\n",
    "vifdf = pd.DataFrame(vifdf,columns=['Features','Variance Inflation Factor'])\n",
    "vifdf.sort_values(by='Variance Inflation Factor')"
   ]
  },
  {
   "cell_type": "code",
   "execution_count": null,
   "id": "c2e19b9a",
   "metadata": {
    "execution": {
     "iopub.execute_input": "2023-01-06T22:32:10.763549Z",
     "iopub.status.busy": "2023-01-06T22:32:10.763122Z",
     "iopub.status.idle": "2023-01-06T22:32:10.769183Z",
     "shell.execute_reply": "2023-01-06T22:32:10.768279Z",
     "shell.execute_reply.started": "2023-01-06T22:32:10.763515Z"
    },
    "papermill": {
     "duration": null,
     "end_time": null,
     "exception": null,
     "start_time": null,
     "status": "pending"
    },
    "tags": []
   },
   "outputs": [],
   "source": [
    "# Lets build our function which will perform the normaliztion\n",
    "def rescale(X):\n",
    "    mean = X.mean()\n",
    "    std = X.std()\n",
    "    scaled_X = [(i - mean)/std for i in X]\n",
    "    return pd.Series(scaled_X)"
   ]
  },
  {
   "cell_type": "code",
   "execution_count": null,
   "id": "4de2301a",
   "metadata": {
    "execution": {
     "iopub.execute_input": "2023-01-06T22:32:13.405302Z",
     "iopub.status.busy": "2023-01-06T22:32:13.404813Z",
     "iopub.status.idle": "2023-01-06T22:32:13.420880Z",
     "shell.execute_reply": "2023-01-06T22:32:13.419642Z",
     "shell.execute_reply.started": "2023-01-06T22:32:13.405265Z"
    },
    "papermill": {
     "duration": null,
     "end_time": null,
     "exception": null,
     "start_time": null,
     "status": "pending"
    },
    "tags": []
   },
   "outputs": [],
   "source": [
    "# We will build a new dataframe\n",
    "df_std = pd.DataFrame(columns=df.columns)\n",
    "for i in df.columns:\n",
    "    df_std[i] = rescale(df[i])"
   ]
  },
  {
   "cell_type": "code",
   "execution_count": null,
   "id": "c030f53d",
   "metadata": {
    "execution": {
     "iopub.execute_input": "2023-01-06T22:32:15.937704Z",
     "iopub.status.busy": "2023-01-06T22:32:15.937283Z",
     "iopub.status.idle": "2023-01-06T22:32:15.973265Z",
     "shell.execute_reply": "2023-01-06T22:32:15.971330Z",
     "shell.execute_reply.started": "2023-01-06T22:32:15.937671Z"
    },
    "papermill": {
     "duration": null,
     "end_time": null,
     "exception": null,
     "start_time": null,
     "status": "pending"
    },
    "tags": []
   },
   "outputs": [],
   "source": [
    "# Lets look at the descriptive stats now\n",
    "df_std.describe().iloc[1:3:]"
   ]
  },
  {
   "cell_type": "code",
   "execution_count": null,
   "id": "a73f315b",
   "metadata": {
    "execution": {
     "iopub.execute_input": "2023-01-06T22:32:20.397443Z",
     "iopub.status.busy": "2023-01-06T22:32:20.397026Z",
     "iopub.status.idle": "2023-01-06T22:32:21.131573Z",
     "shell.execute_reply": "2023-01-06T22:32:21.130131Z",
     "shell.execute_reply.started": "2023-01-06T22:32:20.397411Z"
    },
    "papermill": {
     "duration": null,
     "end_time": null,
     "exception": null,
     "start_time": null,
     "status": "pending"
    },
    "tags": []
   },
   "outputs": [],
   "source": [
    "# lets look at the shape of data after scaling\n",
    "pos = 1\n",
    "fig = plt.figure(figsize=(16,24))\n",
    "for i in df_std.columns:\n",
    "    ax = fig.add_subplot(7,2,pos)\n",
    "    pos = pos + 1\n",
    "    sns.distplot(df_std[i],ax=ax)"
   ]
  },
  {
   "cell_type": "markdown",
   "id": "42464965",
   "metadata": {
    "papermill": {
     "duration": null,
     "end_time": null,
     "exception": null,
     "start_time": null,
     "status": "pending"
    },
    "tags": []
   },
   "source": [
    "PCA\n",
    "\n",
    "Principal component analysis (PCA) is a technique for reducing the dimensionality of such datasets, increasing interpretability but at the same time minimizing information loss."
   ]
  },
  {
   "cell_type": "code",
   "execution_count": null,
   "id": "0b27a8f9",
   "metadata": {
    "execution": {
     "iopub.execute_input": "2023-01-06T22:32:26.832275Z",
     "iopub.status.busy": "2023-01-06T22:32:26.831202Z",
     "iopub.status.idle": "2023-01-06T22:32:26.840105Z",
     "shell.execute_reply": "2023-01-06T22:32:26.838111Z",
     "shell.execute_reply.started": "2023-01-06T22:32:26.832229Z"
    },
    "papermill": {
     "duration": null,
     "end_time": null,
     "exception": null,
     "start_time": null,
     "status": "pending"
    },
    "tags": []
   },
   "outputs": [],
   "source": [
    "df = df.reset_index()"
   ]
  },
  {
   "cell_type": "code",
   "execution_count": null,
   "id": "301290b2",
   "metadata": {
    "execution": {
     "iopub.execute_input": "2023-01-06T22:32:28.719417Z",
     "iopub.status.busy": "2023-01-06T22:32:28.718862Z",
     "iopub.status.idle": "2023-01-06T22:32:28.724583Z",
     "shell.execute_reply": "2023-01-06T22:32:28.723128Z",
     "shell.execute_reply.started": "2023-01-06T22:32:28.719371Z"
    },
    "papermill": {
     "duration": null,
     "end_time": null,
     "exception": null,
     "start_time": null,
     "status": "pending"
    },
    "tags": []
   },
   "outputs": [],
   "source": [
    "# import libraries for PCA\n",
    "from sklearn.decomposition import PCA"
   ]
  },
  {
   "cell_type": "code",
   "execution_count": null,
   "id": "c50639b5",
   "metadata": {
    "execution": {
     "iopub.execute_input": "2023-01-06T22:32:44.038506Z",
     "iopub.status.busy": "2023-01-06T22:32:44.038081Z",
     "iopub.status.idle": "2023-01-06T22:32:44.052130Z",
     "shell.execute_reply": "2023-01-06T22:32:44.050718Z",
     "shell.execute_reply.started": "2023-01-06T22:32:44.038473Z"
    },
    "papermill": {
     "duration": null,
     "end_time": null,
     "exception": null,
     "start_time": null,
     "status": "pending"
    },
    "tags": []
   },
   "outputs": [],
   "source": [
    "pca = PCA(n_components=3)\n",
    "X = df_std.drop('Price',axis=1)\n",
    "X_pca = pca.fit_transform(X)\n",
    "df_std_pca = pd.DataFrame(X_pca,columns=['PCA1','PCA2','PCA3'])\n",
    "df_std_pca['Price'] = df_std['Price']"
   ]
  },
  {
   "cell_type": "code",
   "execution_count": null,
   "id": "d414c01e",
   "metadata": {
    "execution": {
     "iopub.execute_input": "2023-01-06T22:32:46.389648Z",
     "iopub.status.busy": "2023-01-06T22:32:46.388698Z",
     "iopub.status.idle": "2023-01-06T22:32:46.741906Z",
     "shell.execute_reply": "2023-01-06T22:32:46.740127Z",
     "shell.execute_reply.started": "2023-01-06T22:32:46.389606Z"
    },
    "papermill": {
     "duration": null,
     "end_time": null,
     "exception": null,
     "start_time": null,
     "status": "pending"
    },
    "tags": []
   },
   "outputs": [],
   "source": [
    "# Lets look at the correlation matrix now.\n",
    "fig = plt.figure(figsize=(16,12))\n",
    "ax = fig.add_subplot(111)\n",
    "sns.heatmap(df_std_pca.corr(),annot=True)"
   ]
  },
  {
   "cell_type": "code",
   "execution_count": null,
   "id": "81a8cf12",
   "metadata": {
    "execution": {
     "iopub.execute_input": "2023-01-06T22:32:49.759439Z",
     "iopub.status.busy": "2023-01-06T22:32:49.758987Z",
     "iopub.status.idle": "2023-01-06T22:32:50.553143Z",
     "shell.execute_reply": "2023-01-06T22:32:50.551764Z",
     "shell.execute_reply.started": "2023-01-06T22:32:49.759403Z"
    },
    "papermill": {
     "duration": null,
     "end_time": null,
     "exception": null,
     "start_time": null,
     "status": "pending"
    },
    "tags": []
   },
   "outputs": [],
   "source": [
    "# Lets look at the distribution of our features after applying PCA\n",
    "pos = 1\n",
    "fig = plt.figure(figsize=(16,24))\n",
    "for i in df_std_pca.columns:\n",
    "    ax = fig.add_subplot(7,2,pos)\n",
    "    pos = pos + 1\n",
    "    sns.distplot(df_std_pca[i],ax=ax)"
   ]
  },
  {
   "cell_type": "markdown",
   "id": "4a00015a",
   "metadata": {
    "papermill": {
     "duration": null,
     "end_time": null,
     "exception": null,
     "start_time": null,
     "status": "pending"
    },
    "tags": []
   },
   "source": [
    "Regression"
   ]
  },
  {
   "cell_type": "code",
   "execution_count": null,
   "id": "3224535f",
   "metadata": {
    "execution": {
     "iopub.execute_input": "2023-01-06T22:32:53.835512Z",
     "iopub.status.busy": "2023-01-06T22:32:53.835052Z",
     "iopub.status.idle": "2023-01-06T22:32:53.842028Z",
     "shell.execute_reply": "2023-01-06T22:32:53.840720Z",
     "shell.execute_reply.started": "2023-01-06T22:32:53.835475Z"
    },
    "papermill": {
     "duration": null,
     "end_time": null,
     "exception": null,
     "start_time": null,
     "status": "pending"
    },
    "tags": []
   },
   "outputs": [],
   "source": [
    "# import libraires needed to perform our Regression\n",
    "from sklearn.metrics import mean_squared_error\n",
    "from sklearn.model_selection import train_test_split"
   ]
  },
  {
   "cell_type": "code",
   "execution_count": null,
   "id": "f5b02260",
   "metadata": {
    "execution": {
     "iopub.execute_input": "2023-01-06T22:32:56.766501Z",
     "iopub.status.busy": "2023-01-06T22:32:56.765634Z",
     "iopub.status.idle": "2023-01-06T22:32:56.775655Z",
     "shell.execute_reply": "2023-01-06T22:32:56.774450Z",
     "shell.execute_reply.started": "2023-01-06T22:32:56.766456Z"
    },
    "papermill": {
     "duration": null,
     "end_time": null,
     "exception": null,
     "start_time": null,
     "status": "pending"
    },
    "tags": []
   },
   "outputs": [],
   "source": [
    "# Split data into Training and testing\n",
    "X = np.array(df_std_pca.drop('Price',axis=1))\n",
    "y = np.array(df_std_pca['Price'])\n",
    "X_train,X_test,y_train,y_test = train_test_split(X,y,test_size=0.2)\n",
    "for i in [X_train,X_test,y_train,y_test]:\n",
    "    print(\"Shape of Data is {}\".format(i.shape))"
   ]
  },
  {
   "cell_type": "code",
   "execution_count": null,
   "id": "d3c4ca7c",
   "metadata": {
    "execution": {
     "iopub.execute_input": "2023-01-06T22:32:58.839745Z",
     "iopub.status.busy": "2023-01-06T22:32:58.839296Z",
     "iopub.status.idle": "2023-01-06T22:32:58.851639Z",
     "shell.execute_reply": "2023-01-06T22:32:58.849470Z",
     "shell.execute_reply.started": "2023-01-06T22:32:58.839711Z"
    },
    "papermill": {
     "duration": null,
     "end_time": null,
     "exception": null,
     "start_time": null,
     "status": "pending"
    },
    "tags": []
   },
   "outputs": [],
   "source": [
    "# Lets train our model on training data and predict also on training to see results\n",
    "lr = LinearRegression()\n",
    "lr.fit(X_train,y_train)\n",
    "y_pred = lr.predict(X_train)\n",
    "r2 = r2_score(y_train,y_pred)\n",
    "rmse = np.sqrt(mean_squared_error(y_train,y_pred))\n",
    "print('R-Squared Score is : {} | Root Mean Square Error is : {}'.format(r2,rmse))"
   ]
  },
  {
   "cell_type": "raw",
   "id": "2ee7e062",
   "metadata": {
    "papermill": {
     "duration": null,
     "end_time": null,
     "exception": null,
     "start_time": null,
     "status": "pending"
    },
    "tags": []
   },
   "source": [
    "R-Squared score is 0.1662809180074618 & Root Mean Square Error is 0.9173825847174152"
   ]
  }
 ],
 "metadata": {
  "kernelspec": {
   "display_name": "Python 3",
   "language": "python",
   "name": "python3"
  },
  "language_info": {
   "codemirror_mode": {
    "name": "ipython",
    "version": 3
   },
   "file_extension": ".py",
   "mimetype": "text/x-python",
   "name": "python",
   "nbconvert_exporter": "python",
   "pygments_lexer": "ipython3",
   "version": "3.7.12"
  },
  "papermill": {
   "default_parameters": {},
   "duration": 17.497832,
   "end_time": "2023-01-06T22:36:45.067389",
   "environment_variables": {},
   "exception": true,
   "input_path": "__notebook__.ipynb",
   "output_path": "__notebook__.ipynb",
   "parameters": {},
   "start_time": "2023-01-06T22:36:27.569557",
   "version": "2.3.4"
  }
 },
 "nbformat": 4,
 "nbformat_minor": 5
}
